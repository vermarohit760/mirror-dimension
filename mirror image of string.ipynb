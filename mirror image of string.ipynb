{
 "cells": [
  {
   "cell_type": "code",
   "execution_count": 1,
   "id": "6661f7a9",
   "metadata": {},
   "outputs": [
    {
     "name": "stdout",
     "output_type": "stream",
     "text": [
      "enter the word or phrase:->elephant is heavy\n",
      "the reverse of provided string is :->  yvaeh si tnahpele\n"
     ]
    }
   ],
   "source": [
    "x=input('enter the word or phrase:->')\n",
    "print('the reverse of provided string is :-> ',x[::-1])"
   ]
  },
  {
   "cell_type": "code",
   "execution_count": 3,
   "id": "1fcc2957",
   "metadata": {},
   "outputs": [
    {
     "name": "stdout",
     "output_type": "stream",
     "text": [
      "Please enter your own String : elephant is heavy\n",
      "\n",
      "The Original String is:  elephant is heavy\n",
      "The Reversed String is:  yvaeh si tnahpele\n"
     ]
    }
   ],
   "source": [
    "x= input(\"Please enter your own String : \")\n",
    "y = ''\n",
    "for i in x:\n",
    "    y=i+y\n",
    "print(\"\\nThe Original String is: \", x)\n",
    "print(\"The Reversed String is: \",y)\n"
   ]
  },
  {
   "cell_type": "code",
   "execution_count": null,
   "id": "cfcbf26e",
   "metadata": {},
   "outputs": [],
   "source": []
  }
 ],
 "metadata": {
  "kernelspec": {
   "display_name": "Python 3 (ipykernel)",
   "language": "python",
   "name": "python3"
  },
  "language_info": {
   "codemirror_mode": {
    "name": "ipython",
    "version": 3
   },
   "file_extension": ".py",
   "mimetype": "text/x-python",
   "name": "python",
   "nbconvert_exporter": "python",
   "pygments_lexer": "ipython3",
   "version": "3.9.6"
  }
 },
 "nbformat": 4,
 "nbformat_minor": 5
}
